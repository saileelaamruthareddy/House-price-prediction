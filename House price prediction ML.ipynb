{
 "cells": [
  {
   "cell_type": "markdown",
   "id": "8681a974",
   "metadata": {},
   "source": [
    "IMPORTING THE LIBRARIES"
   ]
  },
  {
   "cell_type": "code",
   "execution_count": 2,
   "id": "78e42341",
   "metadata": {},
   "outputs": [],
   "source": [
    "import numpy as np\n",
    "import pandas as pd\n",
    "import matplotlib.pyplot as plt"
   ]
  },
  {
   "cell_type": "code",
   "execution_count": 8,
   "id": "68ff1e77",
   "metadata": {},
   "outputs": [],
   "source": [
    "df=pd.read_csv(r\"C:\\Users\\saile\\Downloads\\housing_price_dataset.csv\")"
   ]
  },
  {
   "cell_type": "code",
   "execution_count": 9,
   "id": "e14610ee",
   "metadata": {},
   "outputs": [
    {
     "data": {
      "text/html": [
       "<div>\n",
       "<style scoped>\n",
       "    .dataframe tbody tr th:only-of-type {\n",
       "        vertical-align: middle;\n",
       "    }\n",
       "\n",
       "    .dataframe tbody tr th {\n",
       "        vertical-align: top;\n",
       "    }\n",
       "\n",
       "    .dataframe thead th {\n",
       "        text-align: right;\n",
       "    }\n",
       "</style>\n",
       "<table border=\"1\" class=\"dataframe\">\n",
       "  <thead>\n",
       "    <tr style=\"text-align: right;\">\n",
       "      <th></th>\n",
       "      <th>SquareFeet</th>\n",
       "      <th>Bedrooms</th>\n",
       "      <th>Bathrooms</th>\n",
       "      <th>Neighborhood</th>\n",
       "      <th>YearBuilt</th>\n",
       "      <th>Price</th>\n",
       "    </tr>\n",
       "  </thead>\n",
       "  <tbody>\n",
       "    <tr>\n",
       "      <th>0</th>\n",
       "      <td>2126</td>\n",
       "      <td>4</td>\n",
       "      <td>1</td>\n",
       "      <td>Rural</td>\n",
       "      <td>1969</td>\n",
       "      <td>215355.283618</td>\n",
       "    </tr>\n",
       "    <tr>\n",
       "      <th>1</th>\n",
       "      <td>2459</td>\n",
       "      <td>3</td>\n",
       "      <td>2</td>\n",
       "      <td>Rural</td>\n",
       "      <td>1980</td>\n",
       "      <td>195014.221626</td>\n",
       "    </tr>\n",
       "    <tr>\n",
       "      <th>2</th>\n",
       "      <td>1860</td>\n",
       "      <td>2</td>\n",
       "      <td>1</td>\n",
       "      <td>Suburb</td>\n",
       "      <td>1970</td>\n",
       "      <td>306891.012076</td>\n",
       "    </tr>\n",
       "    <tr>\n",
       "      <th>3</th>\n",
       "      <td>2294</td>\n",
       "      <td>2</td>\n",
       "      <td>1</td>\n",
       "      <td>Urban</td>\n",
       "      <td>1996</td>\n",
       "      <td>206786.787153</td>\n",
       "    </tr>\n",
       "    <tr>\n",
       "      <th>4</th>\n",
       "      <td>2130</td>\n",
       "      <td>5</td>\n",
       "      <td>2</td>\n",
       "      <td>Suburb</td>\n",
       "      <td>2001</td>\n",
       "      <td>272436.239065</td>\n",
       "    </tr>\n",
       "    <tr>\n",
       "      <th>...</th>\n",
       "      <td>...</td>\n",
       "      <td>...</td>\n",
       "      <td>...</td>\n",
       "      <td>...</td>\n",
       "      <td>...</td>\n",
       "      <td>...</td>\n",
       "    </tr>\n",
       "    <tr>\n",
       "      <th>49995</th>\n",
       "      <td>1282</td>\n",
       "      <td>5</td>\n",
       "      <td>3</td>\n",
       "      <td>Rural</td>\n",
       "      <td>1975</td>\n",
       "      <td>100080.865895</td>\n",
       "    </tr>\n",
       "    <tr>\n",
       "      <th>49996</th>\n",
       "      <td>2854</td>\n",
       "      <td>2</td>\n",
       "      <td>2</td>\n",
       "      <td>Suburb</td>\n",
       "      <td>1988</td>\n",
       "      <td>374507.656727</td>\n",
       "    </tr>\n",
       "    <tr>\n",
       "      <th>49997</th>\n",
       "      <td>2979</td>\n",
       "      <td>5</td>\n",
       "      <td>3</td>\n",
       "      <td>Suburb</td>\n",
       "      <td>1962</td>\n",
       "      <td>384110.555590</td>\n",
       "    </tr>\n",
       "    <tr>\n",
       "      <th>49998</th>\n",
       "      <td>2596</td>\n",
       "      <td>5</td>\n",
       "      <td>2</td>\n",
       "      <td>Rural</td>\n",
       "      <td>1984</td>\n",
       "      <td>380512.685957</td>\n",
       "    </tr>\n",
       "    <tr>\n",
       "      <th>49999</th>\n",
       "      <td>1572</td>\n",
       "      <td>5</td>\n",
       "      <td>3</td>\n",
       "      <td>Rural</td>\n",
       "      <td>2011</td>\n",
       "      <td>221618.583218</td>\n",
       "    </tr>\n",
       "  </tbody>\n",
       "</table>\n",
       "<p>50000 rows × 6 columns</p>\n",
       "</div>"
      ],
      "text/plain": [
       "       SquareFeet  Bedrooms  Bathrooms Neighborhood  YearBuilt          Price\n",
       "0            2126         4          1        Rural       1969  215355.283618\n",
       "1            2459         3          2        Rural       1980  195014.221626\n",
       "2            1860         2          1       Suburb       1970  306891.012076\n",
       "3            2294         2          1        Urban       1996  206786.787153\n",
       "4            2130         5          2       Suburb       2001  272436.239065\n",
       "...           ...       ...        ...          ...        ...            ...\n",
       "49995        1282         5          3        Rural       1975  100080.865895\n",
       "49996        2854         2          2       Suburb       1988  374507.656727\n",
       "49997        2979         5          3       Suburb       1962  384110.555590\n",
       "49998        2596         5          2        Rural       1984  380512.685957\n",
       "49999        1572         5          3        Rural       2011  221618.583218\n",
       "\n",
       "[50000 rows x 6 columns]"
      ]
     },
     "execution_count": 9,
     "metadata": {},
     "output_type": "execute_result"
    }
   ],
   "source": [
    "df"
   ]
  },
  {
   "cell_type": "code",
   "execution_count": 10,
   "id": "263538a1",
   "metadata": {},
   "outputs": [],
   "source": [
    "df.to_csv(\"House_Price_prediction_dataset\")"
   ]
  },
  {
   "cell_type": "code",
   "execution_count": 11,
   "id": "28bf599e",
   "metadata": {},
   "outputs": [
    {
     "data": {
      "text/plain": [
       "SquareFeet        int64\n",
       "Bedrooms          int64\n",
       "Bathrooms         int64\n",
       "Neighborhood     object\n",
       "YearBuilt         int64\n",
       "Price           float64\n",
       "dtype: object"
      ]
     },
     "execution_count": 11,
     "metadata": {},
     "output_type": "execute_result"
    }
   ],
   "source": [
    "df.dtypes"
   ]
  },
  {
   "cell_type": "code",
   "execution_count": 12,
   "id": "1c132597",
   "metadata": {},
   "outputs": [
    {
     "data": {
      "text/plain": [
       "<bound method DataFrame.info of        SquareFeet  Bedrooms  Bathrooms Neighborhood  YearBuilt          Price\n",
       "0            2126         4          1        Rural       1969  215355.283618\n",
       "1            2459         3          2        Rural       1980  195014.221626\n",
       "2            1860         2          1       Suburb       1970  306891.012076\n",
       "3            2294         2          1        Urban       1996  206786.787153\n",
       "4            2130         5          2       Suburb       2001  272436.239065\n",
       "...           ...       ...        ...          ...        ...            ...\n",
       "49995        1282         5          3        Rural       1975  100080.865895\n",
       "49996        2854         2          2       Suburb       1988  374507.656727\n",
       "49997        2979         5          3       Suburb       1962  384110.555590\n",
       "49998        2596         5          2        Rural       1984  380512.685957\n",
       "49999        1572         5          3        Rural       2011  221618.583218\n",
       "\n",
       "[50000 rows x 6 columns]>"
      ]
     },
     "execution_count": 12,
     "metadata": {},
     "output_type": "execute_result"
    }
   ],
   "source": [
    "df.info"
   ]
  },
  {
   "cell_type": "markdown",
   "id": "ebd4271a",
   "metadata": {},
   "source": [
    "# DATA PREPROCESSING"
   ]
  },
  {
   "cell_type": "markdown",
   "id": "a949472f",
   "metadata": {},
   "source": [
    "## EDA"
   ]
  },
  {
   "cell_type": "code",
   "execution_count": 13,
   "id": "ce7ee1c4",
   "metadata": {},
   "outputs": [
    {
     "data": {
      "text/plain": [
       "SquareFeet      0\n",
       "Bedrooms        0\n",
       "Bathrooms       0\n",
       "Neighborhood    0\n",
       "YearBuilt       0\n",
       "Price           0\n",
       "dtype: int64"
      ]
     },
     "execution_count": 13,
     "metadata": {},
     "output_type": "execute_result"
    }
   ],
   "source": [
    "df.isna().sum()"
   ]
  },
  {
   "cell_type": "code",
   "execution_count": 14,
   "id": "73ecf017",
   "metadata": {},
   "outputs": [
    {
     "data": {
      "text/plain": [
       "0"
      ]
     },
     "execution_count": 14,
     "metadata": {},
     "output_type": "execute_result"
    }
   ],
   "source": [
    "df.duplicated().sum()"
   ]
  },
  {
   "cell_type": "code",
   "execution_count": 15,
   "id": "eb3d1d42",
   "metadata": {},
   "outputs": [],
   "source": [
    "df[\"Neighborhood\"]=df[\"Neighborhood\"].map({\"Rural\":1,\"Suburb\":2,\"Urban\":3})"
   ]
  },
  {
   "cell_type": "code",
   "execution_count": 16,
   "id": "ac7b5d4f",
   "metadata": {},
   "outputs": [
    {
     "data": {
      "text/html": [
       "<div>\n",
       "<style scoped>\n",
       "    .dataframe tbody tr th:only-of-type {\n",
       "        vertical-align: middle;\n",
       "    }\n",
       "\n",
       "    .dataframe tbody tr th {\n",
       "        vertical-align: top;\n",
       "    }\n",
       "\n",
       "    .dataframe thead th {\n",
       "        text-align: right;\n",
       "    }\n",
       "</style>\n",
       "<table border=\"1\" class=\"dataframe\">\n",
       "  <thead>\n",
       "    <tr style=\"text-align: right;\">\n",
       "      <th></th>\n",
       "      <th>SquareFeet</th>\n",
       "      <th>Bedrooms</th>\n",
       "      <th>Bathrooms</th>\n",
       "      <th>Neighborhood</th>\n",
       "      <th>YearBuilt</th>\n",
       "      <th>Price</th>\n",
       "    </tr>\n",
       "  </thead>\n",
       "  <tbody>\n",
       "    <tr>\n",
       "      <th>0</th>\n",
       "      <td>2126</td>\n",
       "      <td>4</td>\n",
       "      <td>1</td>\n",
       "      <td>1</td>\n",
       "      <td>1969</td>\n",
       "      <td>215355.283618</td>\n",
       "    </tr>\n",
       "    <tr>\n",
       "      <th>1</th>\n",
       "      <td>2459</td>\n",
       "      <td>3</td>\n",
       "      <td>2</td>\n",
       "      <td>1</td>\n",
       "      <td>1980</td>\n",
       "      <td>195014.221626</td>\n",
       "    </tr>\n",
       "    <tr>\n",
       "      <th>2</th>\n",
       "      <td>1860</td>\n",
       "      <td>2</td>\n",
       "      <td>1</td>\n",
       "      <td>2</td>\n",
       "      <td>1970</td>\n",
       "      <td>306891.012076</td>\n",
       "    </tr>\n",
       "    <tr>\n",
       "      <th>3</th>\n",
       "      <td>2294</td>\n",
       "      <td>2</td>\n",
       "      <td>1</td>\n",
       "      <td>3</td>\n",
       "      <td>1996</td>\n",
       "      <td>206786.787153</td>\n",
       "    </tr>\n",
       "    <tr>\n",
       "      <th>4</th>\n",
       "      <td>2130</td>\n",
       "      <td>5</td>\n",
       "      <td>2</td>\n",
       "      <td>2</td>\n",
       "      <td>2001</td>\n",
       "      <td>272436.239065</td>\n",
       "    </tr>\n",
       "  </tbody>\n",
       "</table>\n",
       "</div>"
      ],
      "text/plain": [
       "   SquareFeet  Bedrooms  Bathrooms  Neighborhood  YearBuilt          Price\n",
       "0        2126         4          1             1       1969  215355.283618\n",
       "1        2459         3          2             1       1980  195014.221626\n",
       "2        1860         2          1             2       1970  306891.012076\n",
       "3        2294         2          1             3       1996  206786.787153\n",
       "4        2130         5          2             2       2001  272436.239065"
      ]
     },
     "execution_count": 16,
     "metadata": {},
     "output_type": "execute_result"
    }
   ],
   "source": [
    "df.head()"
   ]
  },
  {
   "cell_type": "markdown",
   "id": "5292959a",
   "metadata": {},
   "source": [
    "# MODEL BUILDING\n"
   ]
  },
  {
   "cell_type": "markdown",
   "id": "5cb93b76",
   "metadata": {},
   "source": [
    "## splitting into input and output"
   ]
  },
  {
   "cell_type": "code",
   "execution_count": 17,
   "id": "a80392fa",
   "metadata": {},
   "outputs": [],
   "source": [
    "X=df.drop(\"Price\",axis=1) # all column - target column\n",
    "Y=df[\"Price\"] #target column"
   ]
  },
  {
   "cell_type": "code",
   "execution_count": 18,
   "id": "c3436d1d",
   "metadata": {},
   "outputs": [
    {
     "name": "stdout",
     "output_type": "stream",
     "text": [
      "Requirement already satisfied: scikit-learn in c:\\users\\saile\\anaconda3\\lib\\site-packages (1.3.0)\n",
      "Requirement already satisfied: numpy>=1.17.3 in c:\\users\\saile\\anaconda3\\lib\\site-packages (from scikit-learn) (1.24.3)\n",
      "Requirement already satisfied: scipy>=1.5.0 in c:\\users\\saile\\anaconda3\\lib\\site-packages (from scikit-learn) (1.11.1)\n",
      "Requirement already satisfied: joblib>=1.1.1 in c:\\users\\saile\\anaconda3\\lib\\site-packages (from scikit-learn) (1.2.0)\n",
      "Requirement already satisfied: threadpoolctl>=2.0.0 in c:\\users\\saile\\anaconda3\\lib\\site-packages (from scikit-learn) (2.2.0)\n"
     ]
    }
   ],
   "source": [
    "!pip install scikit-learn"
   ]
  },
  {
   "cell_type": "markdown",
   "id": "f8002bba",
   "metadata": {},
   "source": [
    "## splitting into Train and test"
   ]
  },
  {
   "cell_type": "code",
   "execution_count": 19,
   "id": "1fa2acdf",
   "metadata": {},
   "outputs": [],
   "source": [
    "from sklearn.model_selection import train_test_split"
   ]
  },
  {
   "cell_type": "markdown",
   "id": "c4c98355",
   "metadata": {},
   "source": [
    "# train_test_split(input,output,traing percent of data  (80%) (OR) testing percent of data(20%))"
   ]
  },
  {
   "cell_type": "code",
   "execution_count": 20,
   "id": "5db14a38",
   "metadata": {},
   "outputs": [
    {
     "data": {
      "text/plain": [
       "[       SquareFeet  Bedrooms  Bathrooms  Neighborhood  YearBuilt\n",
       " 20198        2169         2          3             1       1988\n",
       " 34103        2568         3          2             2       1977\n",
       " 40179        1339         3          3             1       1958\n",
       " 34586        2716         2          1             1       1978\n",
       " 30725        2307         3          1             1       1974\n",
       " ...           ...       ...        ...           ...        ...\n",
       " 9704         2788         4          3             2       1986\n",
       " 11190        2557         5          1             2       2004\n",
       " 26569        2344         3          2             1       1961\n",
       " 9256         1105         5          2             2       2008\n",
       " 41555        2248         2          3             3       2020\n",
       " \n",
       " [40000 rows x 5 columns],\n",
       "        SquareFeet  Bedrooms  Bathrooms  Neighborhood  YearBuilt\n",
       " 49466        1055         3          2             1       1969\n",
       " 11621        1754         4          3             1       1973\n",
       " 39058        2872         4          3             3       1965\n",
       " 10033        1897         4          3             2       1985\n",
       " 22076        1212         3          3             2       1957\n",
       " ...           ...       ...        ...           ...        ...\n",
       " 16074        1546         5          2             3       1973\n",
       " 26432        2946         5          3             3       1990\n",
       " 17868        2718         4          2             2       1970\n",
       " 36795        2304         2          3             1       2005\n",
       " 39347        1951         5          3             2       1967\n",
       " \n",
       " [10000 rows x 5 columns],\n",
       " 20198    228636.427976\n",
       " 34103    287975.102308\n",
       " 40179    122207.178001\n",
       " 34586    247796.617709\n",
       " 30725    274869.741290\n",
       "              ...      \n",
       " 9704     203057.283779\n",
       " 11190    278386.471087\n",
       " 26569    256700.396332\n",
       " 9256     110490.946694\n",
       " 41555    248965.325384\n",
       " Name: Price, Length: 40000, dtype: float64,\n",
       " 49466    151764.050861\n",
       " 11621    152160.708390\n",
       " 39058    249985.943993\n",
       " 10033    177450.841614\n",
       " 22076    222364.843033\n",
       "              ...      \n",
       " 16074    244383.180423\n",
       " 26432    342541.588760\n",
       " 17868    340856.680451\n",
       " 36795    228174.850843\n",
       " 39347    213233.341885\n",
       " Name: Price, Length: 10000, dtype: float64]"
      ]
     },
     "execution_count": 20,
     "metadata": {},
     "output_type": "execute_result"
    }
   ],
   "source": [
    "train_test_split(X,Y,test_size=0.2,random_state=23)"
   ]
  },
  {
   "cell_type": "code",
   "execution_count": 28,
   "id": "87894ea1",
   "metadata": {},
   "outputs": [],
   "source": [
    "X_train,X_test,Y_train,Y_test=train_test_split(X,Y,test_size=0.2,random_state=23)"
   ]
  },
  {
   "cell_type": "code",
   "execution_count": 29,
   "id": "59bb5ad0",
   "metadata": {},
   "outputs": [
    {
     "data": {
      "text/plain": [
       "(40000, 5)"
      ]
     },
     "execution_count": 29,
     "metadata": {},
     "output_type": "execute_result"
    }
   ],
   "source": [
    "X_train.shape"
   ]
  },
  {
   "cell_type": "code",
   "execution_count": 30,
   "id": "6c7b91ae",
   "metadata": {},
   "outputs": [
    {
     "data": {
      "text/plain": [
       "(10000, 5)"
      ]
     },
     "execution_count": 30,
     "metadata": {},
     "output_type": "execute_result"
    }
   ],
   "source": [
    "X_test.shape"
   ]
  },
  {
   "cell_type": "code",
   "execution_count": 31,
   "id": "fee97241",
   "metadata": {},
   "outputs": [
    {
     "data": {
      "text/plain": [
       "(40000,)"
      ]
     },
     "execution_count": 31,
     "metadata": {},
     "output_type": "execute_result"
    }
   ],
   "source": [
    "Y_train.shape"
   ]
  },
  {
   "cell_type": "code",
   "execution_count": 32,
   "id": "f903ec0e",
   "metadata": {},
   "outputs": [
    {
     "data": {
      "text/plain": [
       "(10000,)"
      ]
     },
     "execution_count": 32,
     "metadata": {},
     "output_type": "execute_result"
    }
   ],
   "source": [
    "Y_test.shape"
   ]
  },
  {
   "cell_type": "markdown",
   "id": "c9f262aa",
   "metadata": {},
   "source": [
    "## Alogorithmns\n",
    "  - knn,linear regression,svm,decsion tree"
   ]
  },
  {
   "cell_type": "markdown",
   "id": "0cf40cf2",
   "metadata": {},
   "source": [
    "# KNN"
   ]
  },
  {
   "cell_type": "code",
   "execution_count": 33,
   "id": "968e2be6",
   "metadata": {},
   "outputs": [],
   "source": [
    "\n",
    "from sklearn.neighbors import KNeighborsRegressor     #KNeighborsRegressor is like a \"class\",we cant use it directly if it has 'capital letters' in it. \n",
    "                                                       #we create a object for using it ex:knn is a object, should be created."
   ]
  },
  {
   "cell_type": "code",
   "execution_count": 34,
   "id": "761d716f",
   "metadata": {},
   "outputs": [],
   "source": [
    "#Evaluate how knn is working\n",
    "\n",
    "from sklearn.metrics import mean_squared_error,r2_score"
   ]
  },
  {
   "cell_type": "code",
   "execution_count": 35,
   "id": "41144985",
   "metadata": {},
   "outputs": [
    {
     "name": "stdout",
     "output_type": "stream",
     "text": [
      "54247.93901533543\n"
     ]
    }
   ],
   "source": [
    "knn=KNeighborsRegressor()\n",
    "knn.fit(X_train,Y_train)  #\"fit\" to make it learn \n",
    "Y_pred=knn.predict(X_test)\n",
    "print(np.sqrt(mean_squared_error(Y_test,Y_pred)))"
   ]
  },
  {
   "cell_type": "code",
   "execution_count": 36,
   "id": "fde324c6",
   "metadata": {},
   "outputs": [
    {
     "data": {
      "text/plain": [
       "2942838887.4115524"
      ]
     },
     "execution_count": 36,
     "metadata": {},
     "output_type": "execute_result"
    }
   ],
   "source": [
    "mean_squared_error(Y_test,Y_pred)"
   ]
  },
  {
   "cell_type": "code",
   "execution_count": 37,
   "id": "91783c92",
   "metadata": {},
   "outputs": [
    {
     "data": {
      "text/plain": [
       "54247.93901533543"
      ]
     },
     "execution_count": 37,
     "metadata": {},
     "output_type": "execute_result"
    }
   ],
   "source": [
    "np.sqrt(mean_squared_error(Y_test,Y_pred))"
   ]
  },
  {
   "cell_type": "markdown",
   "id": "a90c3c8a",
   "metadata": {},
   "source": [
    "# LINEAR REGRESSION"
   ]
  },
  {
   "cell_type": "code",
   "execution_count": 38,
   "id": "1fb7c4a8",
   "metadata": {},
   "outputs": [],
   "source": [
    "from sklearn.linear_model import LinearRegression"
   ]
  },
  {
   "cell_type": "code",
   "execution_count": 39,
   "id": "8ad24327",
   "metadata": {},
   "outputs": [
    {
     "name": "stdout",
     "output_type": "stream",
     "text": [
      "49403.976927995944\n"
     ]
    }
   ],
   "source": [
    "lr=LinearRegression()\n",
    "lr.fit(X_train,Y_train)  #\"fit\" to make it learn \n",
    "Y_pred=lr.predict(X_test)\n",
    "print(np.sqrt(mean_squared_error(Y_test,Y_pred)))"
   ]
  },
  {
   "cell_type": "markdown",
   "id": "8f02fdd0",
   "metadata": {},
   "source": [
    "# SUPORT VECTOR REGRESSION"
   ]
  },
  {
   "cell_type": "code",
   "execution_count": 40,
   "id": "cca1eb70",
   "metadata": {},
   "outputs": [],
   "source": [
    "from sklearn.svm import SVR"
   ]
  },
  {
   "cell_type": "markdown",
   "id": "3b585850",
   "metadata": {},
   "source": [
    "sv=SVR()\n",
    "sv.fit(X_train,Y_train)  #\"fit\" to make it learn \n",
    "Y_pred=sv.predict(X_test)\n",
    "print(np.sqrt(mean_squared_error(Y_test,Y_pred)))"
   ]
  },
  {
   "cell_type": "markdown",
   "id": "8fd4c515",
   "metadata": {},
   "source": [
    "# DECESION TREE"
   ]
  },
  {
   "cell_type": "code",
   "execution_count": 41,
   "id": "f1b0e110",
   "metadata": {},
   "outputs": [],
   "source": [
    "from sklearn.tree import DecisionTreeRegressor"
   ]
  },
  {
   "cell_type": "code",
   "execution_count": 42,
   "id": "916782f2",
   "metadata": {},
   "outputs": [
    {
     "name": "stdout",
     "output_type": "stream",
     "text": [
      "72388.19870344126\n"
     ]
    }
   ],
   "source": [
    "dt = DecisionTreeRegressor()\n",
    "dt.fit(X_train,Y_train)  #\"fit\" to make it learn \n",
    "Y_pred=dt.predict(X_test)\n",
    "print(np.sqrt(mean_squared_error(Y_test,Y_pred)))"
   ]
  },
  {
   "cell_type": "markdown",
   "id": "928d5a79",
   "metadata": {},
   "source": [
    "### Testing prediction model of house price"
   ]
  },
  {
   "cell_type": "markdown",
   "id": "a2cd31dd",
   "metadata": {},
   "source": [
    "check logistic regression model"
   ]
  },
  {
   "cell_type": "code",
   "execution_count": 43,
   "id": "24cdbbbe",
   "metadata": {},
   "outputs": [
    {
     "data": {
      "text/html": [
       "<div>\n",
       "<style scoped>\n",
       "    .dataframe tbody tr th:only-of-type {\n",
       "        vertical-align: middle;\n",
       "    }\n",
       "\n",
       "    .dataframe tbody tr th {\n",
       "        vertical-align: top;\n",
       "    }\n",
       "\n",
       "    .dataframe thead th {\n",
       "        text-align: right;\n",
       "    }\n",
       "</style>\n",
       "<table border=\"1\" class=\"dataframe\">\n",
       "  <thead>\n",
       "    <tr style=\"text-align: right;\">\n",
       "      <th></th>\n",
       "      <th>SquareFeet</th>\n",
       "      <th>Bedrooms</th>\n",
       "      <th>Bathrooms</th>\n",
       "      <th>Neighborhood</th>\n",
       "      <th>YearBuilt</th>\n",
       "      <th>Price</th>\n",
       "    </tr>\n",
       "  </thead>\n",
       "  <tbody>\n",
       "    <tr>\n",
       "      <th>0</th>\n",
       "      <td>2126</td>\n",
       "      <td>4</td>\n",
       "      <td>1</td>\n",
       "      <td>1</td>\n",
       "      <td>1969</td>\n",
       "      <td>215355.283618</td>\n",
       "    </tr>\n",
       "    <tr>\n",
       "      <th>1</th>\n",
       "      <td>2459</td>\n",
       "      <td>3</td>\n",
       "      <td>2</td>\n",
       "      <td>1</td>\n",
       "      <td>1980</td>\n",
       "      <td>195014.221626</td>\n",
       "    </tr>\n",
       "  </tbody>\n",
       "</table>\n",
       "</div>"
      ],
      "text/plain": [
       "   SquareFeet  Bedrooms  Bathrooms  Neighborhood  YearBuilt          Price\n",
       "0        2126         4          1             1       1969  215355.283618\n",
       "1        2459         3          2             1       1980  195014.221626"
      ]
     },
     "execution_count": 43,
     "metadata": {},
     "output_type": "execute_result"
    }
   ],
   "source": [
    "df.head(2)"
   ]
  },
  {
   "cell_type": "code",
   "execution_count": 44,
   "id": "43f9f8a5",
   "metadata": {},
   "outputs": [
    {
     "name": "stderr",
     "output_type": "stream",
     "text": [
      "C:\\Users\\saile\\anaconda3\\Lib\\site-packages\\sklearn\\base.py:464: UserWarning: X does not have valid feature names, but LinearRegression was fitted with feature names\n",
      "  warnings.warn(\n"
     ]
    },
    {
     "data": {
      "text/plain": [
       "312775.3381191607"
      ]
     },
     "execution_count": 44,
     "metadata": {},
     "output_type": "execute_result"
    }
   ],
   "source": [
    "lr.predict([[2750,6,2,3,1947]])[0]"
   ]
  },
  {
   "cell_type": "code",
   "execution_count": 45,
   "id": "0b78728a",
   "metadata": {},
   "outputs": [
    {
     "data": {
      "text/plain": [
       "27719.428600465006"
      ]
     },
     "execution_count": 45,
     "metadata": {},
     "output_type": "execute_result"
    }
   ],
   "source": [
    "lr.intercept_"
   ]
  },
  {
   "cell_type": "code",
   "execution_count": 46,
   "id": "8c7e4b0f",
   "metadata": {},
   "outputs": [
    {
     "data": {
      "text/plain": [
       "array([  99.31308607, 5168.85659283, 2625.12603247,  752.26187692,\n",
       "        -13.64933459])"
      ]
     },
     "execution_count": 46,
     "metadata": {},
     "output_type": "execute_result"
    }
   ],
   "source": [
    "lr.coef_"
   ]
  },
  {
   "cell_type": "code",
   "execution_count": 47,
   "id": "41235809",
   "metadata": {},
   "outputs": [
    {
     "name": "stdout",
     "output_type": "stream",
     "text": [
      "312775.33809891227\n"
     ]
    }
   ],
   "source": [
    "#Pattern of House price prediction using Linear Regresssion\n",
    "sqft = 2750\n",
    "bed = 6\n",
    "bath = 2\n",
    "nb = 3\n",
    "year = 1947\n",
    "price = 99.31308607 * sqft +  5168.85659283 *bed + 2625.12603247*bath +752.26187692* nb -13.64933459 * year + 27719.4286004623\n",
    "print(price)\n"
   ]
  },
  {
   "cell_type": "markdown",
   "id": "973d7196",
   "metadata": {},
   "source": [
    "### pickling"
   ]
  },
  {
   "cell_type": "code",
   "execution_count": 48,
   "id": "db4e6ad5",
   "metadata": {},
   "outputs": [],
   "source": [
    "import pickle"
   ]
  },
  {
   "cell_type": "code",
   "execution_count": 49,
   "id": "8182172f",
   "metadata": {},
   "outputs": [],
   "source": [
    "pickle.dump(lr,open(\"lr.pkl\",\"wb\"))   ##writing as a binary format"
   ]
  },
  {
   "cell_type": "code",
   "execution_count": 50,
   "id": "5b1eb1ac",
   "metadata": {},
   "outputs": [],
   "source": [
    "model = pickle.load(open(\"lr.pkl\",\"rb\"))"
   ]
  },
  {
   "cell_type": "code",
   "execution_count": 51,
   "id": "e99c3ee0",
   "metadata": {},
   "outputs": [
    {
     "name": "stderr",
     "output_type": "stream",
     "text": [
      "C:\\Users\\saile\\anaconda3\\Lib\\site-packages\\sklearn\\base.py:464: UserWarning: X does not have valid feature names, but LinearRegression was fitted with feature names\n",
      "  warnings.warn(\n"
     ]
    },
    {
     "data": {
      "text/plain": [
       "array([300989.24699266])"
      ]
     },
     "execution_count": 51,
     "metadata": {},
     "output_type": "execute_result"
    }
   ],
   "source": [
    "model.predict([[2750,4,2,2,1998]])"
   ]
  },
  {
   "cell_type": "code",
   "execution_count": 52,
   "id": "602b3b9b",
   "metadata": {},
   "outputs": [
    {
     "name": "stderr",
     "output_type": "stream",
     "text": [
      "C:\\Users\\saile\\anaconda3\\Lib\\site-packages\\sklearn\\base.py:464: UserWarning: X does not have valid feature names, but LinearRegression was fitted with feature names\n",
      "  warnings.warn(\n"
     ]
    },
    {
     "data": {
      "text/plain": [
       "array([236036.32407558])"
      ]
     },
     "execution_count": 52,
     "metadata": {},
     "output_type": "execute_result"
    }
   ],
   "source": [
    "model.predict([[2126,4,1,1,1969]])"
   ]
  },
  {
   "cell_type": "code",
   "execution_count": null,
   "id": "b8524997",
   "metadata": {},
   "outputs": [],
   "source": []
  },
  {
   "cell_type": "code",
   "execution_count": null,
   "id": "3c4d7019",
   "metadata": {},
   "outputs": [],
   "source": []
  }
 ],
 "metadata": {
  "kernelspec": {
   "display_name": "Python 3 (ipykernel)",
   "language": "python",
   "name": "python3"
  },
  "language_info": {
   "codemirror_mode": {
    "name": "ipython",
    "version": 3
   },
   "file_extension": ".py",
   "mimetype": "text/x-python",
   "name": "python",
   "nbconvert_exporter": "python",
   "pygments_lexer": "ipython3",
   "version": "3.11.5"
  }
 },
 "nbformat": 4,
 "nbformat_minor": 5
}
